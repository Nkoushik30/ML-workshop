{
  "nbformat": 4,
  "nbformat_minor": 0,
  "metadata": {
    "colab": {
      "provenance": [],
      "authorship_tag": "ABX9TyMgnzM1vJ8Zmc6EDuqGSsRm",
      "include_colab_link": true
    },
    "kernelspec": {
      "name": "python3",
      "display_name": "Python 3"
    },
    "language_info": {
      "name": "python"
    }
  },
  "cells": [
    {
      "cell_type": "markdown",
      "metadata": {
        "id": "view-in-github",
        "colab_type": "text"
      },
      "source": [
        "<a href=\"https://colab.research.google.com/github/Nkoushik30/ML-workshop/blob/main/Assingnment(1).ipynb\" target=\"_parent\"><img src=\"https://colab.research.google.com/assets/colab-badge.svg\" alt=\"Open In Colab\"/></a>"
      ]
    },
    {
      "cell_type": "markdown",
      "source": [
        "#  numpy Assignment(1)"
      ],
      "metadata": {
        "id": "dqVMFkARwB6y"
      }
    },
    {
      "cell_type": "markdown",
      "source": [
        "importing numpy package"
      ],
      "metadata": {
        "id": "BaWHZBzw6F7Q"
      }
    },
    {
      "cell_type": "code",
      "source": [
        "import numpy as np"
      ],
      "metadata": {
        "id": "KO5YbbcfwJox"
      },
      "execution_count": null,
      "outputs": []
    },
    {
      "cell_type": "markdown",
      "source": [
        "Q1. Perform arithmetic operations on NumPy arrays."
      ],
      "metadata": {
        "id": "Q7fCjiKhx0mI"
      }
    },
    {
      "cell_type": "code",
      "execution_count": null,
      "metadata": {
        "id": "XR3uAmpDxt4K",
        "colab": {
          "base_uri": "https://localhost:8080/"
        },
        "outputId": "006eaa54-8cb6-4e91-c7fd-29386c98bf3e"
      },
      "outputs": [
        {
          "output_type": "stream",
          "name": "stdout",
          "text": [
            "[ 8  5  9 13 16]\n",
            "[-2 -1  1 -1 -2]\n",
            "[15  6 20 42 63]\n",
            "[0.6        0.66666667 1.25       0.85714286 0.77777778]\n",
            "[0 0 1 0 0]\n",
            "[3 2 1 6 7]\n"
          ]
        }
      ],
      "source": [
        "arr1=np.array([3,2,5,6,7])\n",
        "arr2=np.array([5,3,4,7,9])\n",
        "print(arr1+arr2)\n",
        "print(arr1-arr2)\n",
        "print(arr1*arr2)\n",
        "print(arr1/arr2)\n",
        "print(arr1//arr2)\n",
        "print(arr1%arr2)"
      ]
    },
    {
      "cell_type": "markdown",
      "source": [
        "Q2. Write a script to compute the mean and standard deviation of a NumPy array."
      ],
      "metadata": {
        "id": "bs-g69oNvg3Q"
      }
    },
    {
      "cell_type": "code",
      "source": [
        "arr3=np.array([6,14,12,3,8,6,9,4])\n",
        "p=np.std(arr3)\n",
        "s=np.mean(arr3)\n",
        "print(\"Mean value of arr3:\",s)\n",
        "print(\"standed deviation value of arr3:\",p)"
      ],
      "metadata": {
        "colab": {
          "base_uri": "https://localhost:8080/"
        },
        "id": "vbIUuEOLvnYv",
        "outputId": "67f8929c-66cc-44cb-fd10-e2fa8c16e945"
      },
      "execution_count": null,
      "outputs": [
        {
          "output_type": "stream",
          "name": "stdout",
          "text": [
            "Mean value of arr3: 7.75\n",
            "standed deviation value of arr3: 3.5619517121937516\n"
          ]
        }
      ]
    },
    {
      "cell_type": "markdown",
      "source": [
        "Q3. Create a NumPy array of integers from 10 to 50 with a step size of 5."
      ],
      "metadata": {
        "id": "AX3gmb9gxF8X"
      }
    },
    {
      "cell_type": "code",
      "source": [
        "arr4=np.arange(10,51,5)\n",
        "print(arr4)"
      ],
      "metadata": {
        "colab": {
          "base_uri": "https://localhost:8080/"
        },
        "id": "hbff-52qxMMc",
        "outputId": "c43ac396-7b32-419d-a56a-93e31b4feddf"
      },
      "execution_count": null,
      "outputs": [
        {
          "output_type": "stream",
          "name": "stdout",
          "text": [
            "[10 15 20 25 30 35 40 45 50]\n"
          ]
        }
      ]
    },
    {
      "cell_type": "markdown",
      "source": [
        "Q4. Reshape the array into a 2x4 matrix."
      ],
      "metadata": {
        "id": "Tr3zytuxx1tC"
      }
    },
    {
      "cell_type": "code",
      "source": [
        "arr5=np.array([1,5,3,6,9,4,2,3])\n",
        "s=arr5.reshape(2,4)\n",
        "print(s)"
      ],
      "metadata": {
        "colab": {
          "base_uri": "https://localhost:8080/"
        },
        "id": "bB25GztvxbP6",
        "outputId": "53d9b51f-c40c-4fef-dc3d-0f421a07ea62"
      },
      "execution_count": null,
      "outputs": [
        {
          "output_type": "stream",
          "name": "stdout",
          "text": [
            "[[1 5 3 6]\n",
            " [9 4 2 3]]\n"
          ]
        }
      ]
    },
    {
      "cell_type": "markdown",
      "source": [
        "Q5. Given the array arr = np.array([[1, 2, 3], [4, 5, 6], [7, 8, 9]]):\n",
        "       \n",
        "        • Extract the sub-matrix containing the last two rows and first two columns.\n",
        "        • Replace all elements greater than 4 with 0."
      ],
      "metadata": {
        "id": "IacD-Wx8zHSx"
      }
    },
    {
      "cell_type": "code",
      "source": [
        "arr6=np.array([[1, 2, 3], [4, 5, 6], [7, 8, 9]])\n",
        "s1=arr6[1:,:2]\n",
        "print(s1)"
      ],
      "metadata": {
        "colab": {
          "base_uri": "https://localhost:8080/"
        },
        "id": "eepGimAxzVeA",
        "outputId": "aac0e804-d2f9-45b4-f7a4-44e89be558f0"
      },
      "execution_count": null,
      "outputs": [
        {
          "output_type": "stream",
          "name": "stdout",
          "text": [
            "[[4 5]\n",
            " [7 8]]\n"
          ]
        }
      ]
    },
    {
      "cell_type": "code",
      "source": [
        "arr6[arr6>4]=0\n",
        "print(arr6)"
      ],
      "metadata": {
        "colab": {
          "base_uri": "https://localhost:8080/"
        },
        "id": "6k7FtdpF5jHk",
        "outputId": "fcc5a4d6-f74e-485b-e002-68b402b1841c"
      },
      "execution_count": null,
      "outputs": [
        {
          "output_type": "stream",
          "name": "stdout",
          "text": [
            "[[1 2 3]\n",
            " [4 0 0]\n",
            " [0 0 0]]\n"
          ]
        }
      ]
    },
    {
      "cell_type": "markdown",
      "source": [
        "Q6. Create two 1D arrays:\n",
        "\n",
        "      • a = np.array([1, 2, 3])\n",
        "      • b = np.array([4, 5, 6])\n",
        "      • Perform element-wise addition, multiplication, and division"
      ],
      "metadata": {
        "id": "16OTC4LY5sRd"
      }
    },
    {
      "cell_type": "code",
      "source": [
        "a = np.array([1, 2, 3])\n",
        "b = np.array([4, 5, 6])\n",
        "print(\"adition of arrays a,b:\",a+b)\n",
        "print(\"subtraction of arrays a,b:\",a-b)\n",
        "print(\"multiplication of arrays a,b:\",a*b)\n",
        "print(\"division of arrays a,b:\",a/b)"
      ],
      "metadata": {
        "colab": {
          "base_uri": "https://localhost:8080/"
        },
        "id": "9fRExaF_511M",
        "outputId": "cf70368f-5d62-4352-dcb2-98d47ee07495"
      },
      "execution_count": null,
      "outputs": [
        {
          "output_type": "stream",
          "name": "stdout",
          "text": [
            "adition of arrays a,b: [5 7 9]\n",
            "subtraction of arrays a,b: [-3 -3 -3]\n",
            "multiplication of arrays a,b: [ 4 10 18]\n",
            "division of arrays a,b: [0.25 0.4  0.5 ]\n"
          ]
        }
      ]
    },
    {
      "cell_type": "markdown",
      "source": [
        "Q7. Create a random NumPy array of size (4, 4). Compute:\n",
        "\n",
        "      • Mean of each column.\n",
        "      • Maximum value of the entire array.\n",
        "      • Sum of all elements."
      ],
      "metadata": {
        "id": "mS8enJ286zLh"
      }
    },
    {
      "cell_type": "code",
      "source": [
        "arr7=np.random.randint(0,100,(4,4))\n",
        "s1=np.mean(arr7,axis=0)\n",
        "s2=np.max(arr7)\n",
        "s3=np.sum(arr7)\n",
        "print(s1)\n",
        "print(s2)\n",
        "print(s3)"
      ],
      "metadata": {
        "colab": {
          "base_uri": "https://localhost:8080/"
        },
        "id": "hFL4fa_E6-TU",
        "outputId": "03af7d1b-69de-487d-98d8-269e3aede876"
      },
      "execution_count": null,
      "outputs": [
        {
          "output_type": "stream",
          "name": "stdout",
          "text": [
            "[62.  32.  55.5 33.5]\n",
            "95\n",
            "732\n"
          ]
        }
      ]
    },
    {
      "cell_type": "markdown",
      "source": [
        "8. Given the array arr = np.array([1, 2, 3, 4]),add 10 to each element and multiply the result by 2."
      ],
      "metadata": {
        "id": "qXJWzT2_9XSe"
      }
    },
    {
      "cell_type": "code",
      "source": [
        "arr8=np.array([1, 2, 3, 4])\n",
        "s1=arr8*10\n",
        "s2=s1*2\n",
        "print(s2)"
      ],
      "metadata": {
        "colab": {
          "base_uri": "https://localhost:8080/"
        },
        "id": "Xd_-LMru9bz_",
        "outputId": "238d1526-d21f-4f44-a6f4-833422d2c008"
      },
      "execution_count": null,
      "outputs": [
        {
          "output_type": "stream",
          "name": "stdout",
          "text": [
            "[20 40 60 80]\n"
          ]
        }
      ]
    },
    {
      "cell_type": "markdown",
      "source": [
        "9. Perform advanced slicing and indexing on a 3D array.\n",
        "Create a 3D NumPy array arr of shape (3, 4, 5) with random integers ranging from\n",
        "1 to 100. Perform the following:\n",
        "\n",
        "\n",
        "      • Extract the second \"layer\" (i.e., the second 2D array) in the first dimension.\n",
        "      • Extract the first two rows and the last three columns from each \"layer.\"\n",
        "      • Replace all elements divisible by 3 with -1.\n"
      ],
      "metadata": {
        "id": "D1QHqNsF92Q4"
      }
    },
    {
      "cell_type": "code",
      "source": [
        "arr9=np.random.randint(1,100,(3,4,5))\n",
        "s1=np.array(arr9[1])\n",
        "s2=np.array(arr9[1,:2,-3:])\n",
        "print(arr9)\n",
        "print(s2)\n",
        "print(s1)"
      ],
      "metadata": {
        "colab": {
          "base_uri": "https://localhost:8080/"
        },
        "id": "eR_lWJTV-3I7",
        "outputId": "e30f873b-d8db-419b-9f61-5beeffefd8c4"
      },
      "execution_count": null,
      "outputs": [
        {
          "output_type": "stream",
          "name": "stdout",
          "text": [
            "[[[84 13 58 56 50]\n",
            "  [51 88 80 38 75]\n",
            "  [72 91 88 41 60]\n",
            "  [10 26 34 54 84]]\n",
            "\n",
            " [[81 44 44 41 14]\n",
            "  [19 59 80 71 85]\n",
            "  [61 45 43 18 45]\n",
            "  [36 38 46 24 16]]\n",
            "\n",
            " [[36 23 27  8 39]\n",
            "  [90 64 21 95 38]\n",
            "  [36 10 87 98 45]\n",
            "  [93 93 91 29 29]]]\n",
            "[[44 41 14]\n",
            " [80 71 85]]\n",
            "[[81 44 44 41 14]\n",
            " [19 59 80 71 85]\n",
            " [61 45 43 18 45]\n",
            " [36 38 46 24 16]]\n"
          ]
        }
      ]
    },
    {
      "cell_type": "code",
      "source": [
        "arr9[arr9%3==0]=-1\n",
        "print(arr9)"
      ],
      "metadata": {
        "colab": {
          "base_uri": "https://localhost:8080/"
        },
        "id": "DyZ7TdxWABnQ",
        "outputId": "a28b16d3-89f3-4dce-f295-6f44f6f9748e"
      },
      "execution_count": null,
      "outputs": [
        {
          "output_type": "stream",
          "name": "stdout",
          "text": [
            "[[[-1 13 58 56 50]\n",
            "  [-1 88 80 38 -1]\n",
            "  [-1 91 88 41 -1]\n",
            "  [10 26 34 -1 -1]]\n",
            "\n",
            " [[-1 44 44 41 14]\n",
            "  [19 59 80 71 85]\n",
            "  [61 -1 43 -1 -1]\n",
            "  [-1 38 46 -1 16]]\n",
            "\n",
            " [[-1 23 -1  8 -1]\n",
            "  [-1 64 -1 95 38]\n",
            "  [-1 10 -1 98 -1]\n",
            "  [-1 -1 91 29 29]]]\n"
          ]
        }
      ]
    },
    {
      "cell_type": "markdown",
      "source": [
        "10. Work with broadcasting and advanced operations in NumPy.\n",
        " Create a NumPy array arr of shape (3, 3) with random integers between\n",
        " 1 and 20. Perform the following:\n",
        "\n",
        "\n",
        "      • Subtract the mean of each row from its respective elements (row-wise\n",
        "      normalization).\n",
        "      • Create a new array by squaring all the elements in arr.\n",
        "      • Find the indices of the top 3 maximum values in the entire array."
      ],
      "metadata": {
        "id": "CxiVPdrCAqgG"
      }
    },
    {
      "cell_type": "code",
      "source": [
        "arr10=np.random.randint(1,20,(3,3))\n",
        "s1=arr10-arr10.mean(axis=1,keepdims=True)\n",
        "print(s1)\n",
        "s2=np.square(arr10)\n",
        "print(s2)"
      ],
      "metadata": {
        "colab": {
          "base_uri": "https://localhost:8080/"
        },
        "id": "s2fo-YYNAvj-",
        "outputId": "2ee9c955-1484-41cc-9b48-ad6631eb68ea"
      },
      "execution_count": null,
      "outputs": [
        {
          "output_type": "stream",
          "name": "stdout",
          "text": [
            "[[ 6.         -4.         -2.        ]\n",
            " [ 1.33333333 -1.66666667  0.33333333]\n",
            " [-6.33333333  9.66666667 -3.33333333]]\n",
            "[[169   9  25]\n",
            " [ 16   1   9]\n",
            " [  1 289  16]]\n"
          ]
        }
      ]
    }
  ]
}